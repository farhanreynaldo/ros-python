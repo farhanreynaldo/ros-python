{
 "cells": [
  {
   "cell_type": "raw",
   "metadata": {},
   "source": [
    "---\n",
    "title: \"Regression and Other Stories: Height and weight\"\n",
    "author: \"Farhan Reynaldo\"\n",
    "date: \"Nov 11th, 2021\"\n",
    "format: \n",
    "  html:\n",
    "    warning: false\n",
    "    code-tools: true\n",
    "    code-overflow: wrap\n",
    "jupyter: python3\n",
    "---"
   ]
  },
  {
   "cell_type": "code",
   "execution_count": 1,
   "metadata": {},
   "outputs": [],
   "source": [
    "from pathlib import Path\n",
    "\n",
    "import arviz as az\n",
    "import bambi as bmb\n",
    "import matplotlib.pyplot as plt\n",
    "import pandas as pd\n",
    "\n",
    "DATA_PATH = Path(\"../data\")"
   ]
  },
  {
   "cell_type": "code",
   "execution_count": 2,
   "metadata": {},
   "outputs": [],
   "source": [
    "az.style.use(\"arviz-white\")"
   ]
  },
  {
   "cell_type": "code",
   "execution_count": 3,
   "metadata": {},
   "outputs": [
    {
     "data": {
      "text/html": [
       "<div>\n",
       "<style scoped>\n",
       "    .dataframe tbody tr th:only-of-type {\n",
       "        vertical-align: middle;\n",
       "    }\n",
       "\n",
       "    .dataframe tbody tr th {\n",
       "        vertical-align: top;\n",
       "    }\n",
       "\n",
       "    .dataframe thead th {\n",
       "        text-align: right;\n",
       "    }\n",
       "</style>\n",
       "<table border=\"1\" class=\"dataframe\">\n",
       "  <thead>\n",
       "    <tr style=\"text-align: right;\">\n",
       "      <th></th>\n",
       "      <th>height</th>\n",
       "      <th>weight</th>\n",
       "      <th>male</th>\n",
       "      <th>earn</th>\n",
       "      <th>earnk</th>\n",
       "      <th>ethnicity</th>\n",
       "      <th>education</th>\n",
       "      <th>mother_education</th>\n",
       "      <th>father_education</th>\n",
       "      <th>walk</th>\n",
       "      <th>exercise</th>\n",
       "      <th>smokenow</th>\n",
       "      <th>tense</th>\n",
       "      <th>angry</th>\n",
       "      <th>age</th>\n",
       "    </tr>\n",
       "  </thead>\n",
       "  <tbody>\n",
       "    <tr>\n",
       "      <th>0</th>\n",
       "      <td>74</td>\n",
       "      <td>210.0</td>\n",
       "      <td>1</td>\n",
       "      <td>50000.0</td>\n",
       "      <td>50.0</td>\n",
       "      <td>White</td>\n",
       "      <td>16.0</td>\n",
       "      <td>16.0</td>\n",
       "      <td>16.0</td>\n",
       "      <td>3</td>\n",
       "      <td>3</td>\n",
       "      <td>2.0</td>\n",
       "      <td>0.0</td>\n",
       "      <td>0.0</td>\n",
       "      <td>45</td>\n",
       "    </tr>\n",
       "    <tr>\n",
       "      <th>1</th>\n",
       "      <td>66</td>\n",
       "      <td>125.0</td>\n",
       "      <td>0</td>\n",
       "      <td>60000.0</td>\n",
       "      <td>60.0</td>\n",
       "      <td>White</td>\n",
       "      <td>16.0</td>\n",
       "      <td>16.0</td>\n",
       "      <td>16.0</td>\n",
       "      <td>6</td>\n",
       "      <td>5</td>\n",
       "      <td>1.0</td>\n",
       "      <td>0.0</td>\n",
       "      <td>0.0</td>\n",
       "      <td>58</td>\n",
       "    </tr>\n",
       "    <tr>\n",
       "      <th>2</th>\n",
       "      <td>64</td>\n",
       "      <td>126.0</td>\n",
       "      <td>0</td>\n",
       "      <td>30000.0</td>\n",
       "      <td>30.0</td>\n",
       "      <td>White</td>\n",
       "      <td>16.0</td>\n",
       "      <td>16.0</td>\n",
       "      <td>16.0</td>\n",
       "      <td>8</td>\n",
       "      <td>1</td>\n",
       "      <td>2.0</td>\n",
       "      <td>1.0</td>\n",
       "      <td>1.0</td>\n",
       "      <td>29</td>\n",
       "    </tr>\n",
       "    <tr>\n",
       "      <th>3</th>\n",
       "      <td>65</td>\n",
       "      <td>200.0</td>\n",
       "      <td>0</td>\n",
       "      <td>25000.0</td>\n",
       "      <td>25.0</td>\n",
       "      <td>White</td>\n",
       "      <td>17.0</td>\n",
       "      <td>17.0</td>\n",
       "      <td>NaN</td>\n",
       "      <td>8</td>\n",
       "      <td>1</td>\n",
       "      <td>2.0</td>\n",
       "      <td>0.0</td>\n",
       "      <td>0.0</td>\n",
       "      <td>57</td>\n",
       "    </tr>\n",
       "    <tr>\n",
       "      <th>4</th>\n",
       "      <td>63</td>\n",
       "      <td>110.0</td>\n",
       "      <td>0</td>\n",
       "      <td>50000.0</td>\n",
       "      <td>50.0</td>\n",
       "      <td>Other</td>\n",
       "      <td>16.0</td>\n",
       "      <td>16.0</td>\n",
       "      <td>16.0</td>\n",
       "      <td>5</td>\n",
       "      <td>6</td>\n",
       "      <td>2.0</td>\n",
       "      <td>0.0</td>\n",
       "      <td>0.0</td>\n",
       "      <td>91</td>\n",
       "    </tr>\n",
       "  </tbody>\n",
       "</table>\n",
       "</div>"
      ],
      "text/plain": [
       "   height  weight  male     earn  earnk ethnicity  education  \\\n",
       "0      74   210.0     1  50000.0   50.0     White       16.0   \n",
       "1      66   125.0     0  60000.0   60.0     White       16.0   \n",
       "2      64   126.0     0  30000.0   30.0     White       16.0   \n",
       "3      65   200.0     0  25000.0   25.0     White       17.0   \n",
       "4      63   110.0     0  50000.0   50.0     Other       16.0   \n",
       "\n",
       "   mother_education  father_education  walk  exercise  smokenow  tense  angry  \\\n",
       "0              16.0              16.0     3         3       2.0    0.0    0.0   \n",
       "1              16.0              16.0     6         5       1.0    0.0    0.0   \n",
       "2              16.0              16.0     8         1       2.0    1.0    1.0   \n",
       "3              17.0               NaN     8         1       2.0    0.0    0.0   \n",
       "4              16.0              16.0     5         6       2.0    0.0    0.0   \n",
       "\n",
       "   age  \n",
       "0   45  \n",
       "1   58  \n",
       "2   29  \n",
       "3   57  \n",
       "4   91  "
      ]
     },
     "execution_count": 3,
     "metadata": {},
     "output_type": "execute_result"
    }
   ],
   "source": [
    "earnings = pd.read_csv(DATA_PATH / \"earnings.csv\")\n",
    "earnings.head()"
   ]
  },
  {
   "cell_type": "markdown",
   "metadata": {},
   "source": [
    "## Simulating uncertainty for linear predictors and predicted values\n",
    "### Predict weight (in pounds) from height (in inches)"
   ]
  },
  {
   "cell_type": "code",
   "execution_count": 4,
   "metadata": {},
   "outputs": [
    {
     "name": "stderr",
     "output_type": "stream",
     "text": [
      "Automatically removing 27/1816 rows from the dataset.\n",
      "Auto-assigning NUTS sampler...\n",
      "Initializing NUTS using jitter+adapt_diag...\n",
      "Multiprocess sampling (4 chains in 4 jobs)\n",
      "NUTS: [weight_sigma, Intercept, height]\n"
     ]
    },
    {
     "data": {
      "text/html": [
       "\n",
       "    <div>\n",
       "        <style>\n",
       "            /* Turns off some styling */\n",
       "            progress {\n",
       "                /* gets rid of default border in Firefox and Opera. */\n",
       "                border: none;\n",
       "                /* Needs to be in here for Safari polyfill so background images work as expected. */\n",
       "                background-size: auto;\n",
       "            }\n",
       "            .progress-bar-interrupted, .progress-bar-interrupted::-webkit-progress-bar {\n",
       "                background: #F44336;\n",
       "            }\n",
       "        </style>\n",
       "      <progress value='8000' class='' max='8000' style='width:300px; height:20px; vertical-align: middle;'></progress>\n",
       "      100.00% [8000/8000 00:03<00:00 Sampling 4 chains, 0 divergences]\n",
       "    </div>\n",
       "    "
      ],
      "text/plain": [
       "<IPython.core.display.HTML object>"
      ]
     },
     "metadata": {},
     "output_type": "display_data"
    },
    {
     "name": "stderr",
     "output_type": "stream",
     "text": [
      "Sampling 4 chains for 1_000 tune and 1_000 draw iterations (4_000 + 4_000 draws total) took 13 seconds.\n"
     ]
    },
    {
     "data": {
      "text/html": [
       "<div>\n",
       "<style scoped>\n",
       "    .dataframe tbody tr th:only-of-type {\n",
       "        vertical-align: middle;\n",
       "    }\n",
       "\n",
       "    .dataframe tbody tr th {\n",
       "        vertical-align: top;\n",
       "    }\n",
       "\n",
       "    .dataframe thead th {\n",
       "        text-align: right;\n",
       "    }\n",
       "</style>\n",
       "<table border=\"1\" class=\"dataframe\">\n",
       "  <thead>\n",
       "    <tr style=\"text-align: right;\">\n",
       "      <th></th>\n",
       "      <th>mean</th>\n",
       "      <th>sd</th>\n",
       "      <th>hdi_3%</th>\n",
       "      <th>hdi_97%</th>\n",
       "    </tr>\n",
       "  </thead>\n",
       "  <tbody>\n",
       "    <tr>\n",
       "      <th>Intercept</th>\n",
       "      <td>-172.922</td>\n",
       "      <td>11.899</td>\n",
       "      <td>-194.217</td>\n",
       "      <td>-149.535</td>\n",
       "    </tr>\n",
       "    <tr>\n",
       "      <th>height</th>\n",
       "      <td>4.944</td>\n",
       "      <td>0.179</td>\n",
       "      <td>4.597</td>\n",
       "      <td>5.263</td>\n",
       "    </tr>\n",
       "    <tr>\n",
       "      <th>weight_sigma</th>\n",
       "      <td>28.980</td>\n",
       "      <td>0.489</td>\n",
       "      <td>28.062</td>\n",
       "      <td>29.889</td>\n",
       "    </tr>\n",
       "  </tbody>\n",
       "</table>\n",
       "</div>"
      ],
      "text/plain": [
       "                 mean      sd   hdi_3%  hdi_97%\n",
       "Intercept    -172.922  11.899 -194.217 -149.535\n",
       "height          4.944   0.179    4.597    5.263\n",
       "weight_sigma   28.980   0.489   28.062   29.889"
      ]
     },
     "execution_count": 4,
     "metadata": {},
     "output_type": "execute_result"
    }
   ],
   "source": [
    "model_1 = bmb.Model(\"weight ~ height\", data=earnings, dropna=True)\n",
    "idata_1 = model_1.fit()\n",
    "az.summary(idata_1, kind=\"stats\")"
   ]
  },
  {
   "cell_type": "markdown",
   "metadata": {},
   "source": [
    "Predict weight for 66 inches person"
   ]
  },
  {
   "cell_type": "code",
   "execution_count": 5,
   "metadata": {},
   "outputs": [
    {
     "data": {
      "text/plain": [
       "153.4"
      ]
     },
     "execution_count": 5,
     "metadata": {},
     "output_type": "execute_result"
    }
   ],
   "source": [
    "stats_1 = az.summary(idata_1, kind=\"stats\")[\"mean\"]\n",
    "predicted_1 = stats_1[\"Intercept\"] + stats_1[\"height\"] * 66\n",
    "round(predicted_1, 1)"
   ]
  },
  {
   "cell_type": "markdown",
   "metadata": {},
   "source": [
    "or"
   ]
  },
  {
   "cell_type": "code",
   "execution_count": 6,
   "metadata": {},
   "outputs": [
    {
     "data": {
      "text/plain": [
       "153.4"
      ]
     },
     "execution_count": 6,
     "metadata": {},
     "output_type": "execute_result"
    }
   ],
   "source": [
    "new = pd.DataFrame(dict(height=[66]))\n",
    "model_1.predict(idata_1, data=new)\n",
    "predicted_1 = idata_1.posterior[\"weight_mean\"].values.mean()\n",
    "round(predicted_1, 1)"
   ]
  },
  {
   "cell_type": "markdown",
   "metadata": {},
   "source": [
    "### Center heights"
   ]
  },
  {
   "cell_type": "code",
   "execution_count": 7,
   "metadata": {},
   "outputs": [
    {
     "name": "stderr",
     "output_type": "stream",
     "text": [
      "Automatically removing 27/1816 rows from the dataset.\n",
      "Auto-assigning NUTS sampler...\n",
      "Initializing NUTS using jitter+adapt_diag...\n",
      "Multiprocess sampling (4 chains in 4 jobs)\n",
      "NUTS: [weight_sigma, Intercept, c_height]\n"
     ]
    },
    {
     "data": {
      "text/html": [
       "\n",
       "    <div>\n",
       "        <style>\n",
       "            /* Turns off some styling */\n",
       "            progress {\n",
       "                /* gets rid of default border in Firefox and Opera. */\n",
       "                border: none;\n",
       "                /* Needs to be in here for Safari polyfill so background images work as expected. */\n",
       "                background-size: auto;\n",
       "            }\n",
       "            .progress-bar-interrupted, .progress-bar-interrupted::-webkit-progress-bar {\n",
       "                background: #F44336;\n",
       "            }\n",
       "        </style>\n",
       "      <progress value='8000' class='' max='8000' style='width:300px; height:20px; vertical-align: middle;'></progress>\n",
       "      100.00% [8000/8000 00:04<00:00 Sampling 4 chains, 0 divergences]\n",
       "    </div>\n",
       "    "
      ],
      "text/plain": [
       "<IPython.core.display.HTML object>"
      ]
     },
     "metadata": {},
     "output_type": "display_data"
    },
    {
     "name": "stderr",
     "output_type": "stream",
     "text": [
      "Sampling 4 chains for 1_000 tune and 1_000 draw iterations (4_000 + 4_000 draws total) took 13 seconds.\n"
     ]
    },
    {
     "data": {
      "text/html": [
       "<div>\n",
       "<style scoped>\n",
       "    .dataframe tbody tr th:only-of-type {\n",
       "        vertical-align: middle;\n",
       "    }\n",
       "\n",
       "    .dataframe tbody tr th {\n",
       "        vertical-align: top;\n",
       "    }\n",
       "\n",
       "    .dataframe thead th {\n",
       "        text-align: right;\n",
       "    }\n",
       "</style>\n",
       "<table border=\"1\" class=\"dataframe\">\n",
       "  <thead>\n",
       "    <tr style=\"text-align: right;\">\n",
       "      <th></th>\n",
       "      <th>mean</th>\n",
       "      <th>sd</th>\n",
       "      <th>hdi_3%</th>\n",
       "      <th>hdi_97%</th>\n",
       "    </tr>\n",
       "  </thead>\n",
       "  <tbody>\n",
       "    <tr>\n",
       "      <th>Intercept</th>\n",
       "      <td>153.373</td>\n",
       "      <td>0.698</td>\n",
       "      <td>152.118</td>\n",
       "      <td>154.718</td>\n",
       "    </tr>\n",
       "    <tr>\n",
       "      <th>c_height</th>\n",
       "      <td>4.948</td>\n",
       "      <td>0.179</td>\n",
       "      <td>4.628</td>\n",
       "      <td>5.290</td>\n",
       "    </tr>\n",
       "    <tr>\n",
       "      <th>weight_sigma</th>\n",
       "      <td>28.961</td>\n",
       "      <td>0.486</td>\n",
       "      <td>28.057</td>\n",
       "      <td>29.855</td>\n",
       "    </tr>\n",
       "  </tbody>\n",
       "</table>\n",
       "</div>"
      ],
      "text/plain": [
       "                 mean     sd   hdi_3%  hdi_97%\n",
       "Intercept     153.373  0.698  152.118  154.718\n",
       "c_height        4.948  0.179    4.628    5.290\n",
       "weight_sigma   28.961  0.486   28.057   29.855"
      ]
     },
     "execution_count": 7,
     "metadata": {},
     "output_type": "execute_result"
    }
   ],
   "source": [
    "earnings[\"c_height\"] = earnings[\"height\"] - 66\n",
    "model_2 = bmb.Model(\"weight ~ c_height\", data=earnings, dropna=True)\n",
    "idata_2 = model_2.fit()\n",
    "az.summary(idata_2, kind=\"stats\")"
   ]
  },
  {
   "cell_type": "markdown",
   "metadata": {},
   "source": [
    "### Point prediction"
   ]
  },
  {
   "cell_type": "code",
   "execution_count": 8,
   "metadata": {},
   "outputs": [
    {
     "data": {
      "text/plain": [
       "173.2"
      ]
     },
     "execution_count": 8,
     "metadata": {},
     "output_type": "execute_result"
    }
   ],
   "source": [
    "new = pd.DataFrame(dict(c_height=[4]))\n",
    "model_2.predict(idata_2, data=new)\n",
    "predicted_2 = idata_2.posterior[\"weight_mean\"].values.mean()\n",
    "round(predicted_2, 1)"
   ]
  },
  {
   "cell_type": "markdown",
   "metadata": {},
   "source": [
    "### Posterior simulations\n",
    "\n",
    "variation coming from posterior uncertainty in the coefficients"
   ]
  },
  {
   "cell_type": "code",
   "execution_count": 9,
   "metadata": {},
   "outputs": [
    {
     "data": {
      "image/png": "[encoded data removed]",
      "text/plain": [
       "<Figure size 720x480 with 1 Axes>"
      ]
     },
     "metadata": {},
     "output_type": "display_data"
    }
   ],
   "source": [
    "linpred_2 = model_2.predict(idata_2, data=new, inplace=False)\n",
    "plt.hist(linpred_2.posterior[\"weight_mean\"].values.ravel(), color=\"gray\");"
   ]
  },
  {
   "cell_type": "markdown",
   "metadata": {},
   "source": [
    "### Posterior predictive simulations\n",
    "variation coming from posterior uncertainty in the coefficients and predictive uncertainty"
   ]
  },
  {
   "cell_type": "code",
   "execution_count": 10,
   "metadata": {},
   "outputs": [
    {
     "data": {
      "image/png": "[encoded data removed]",
      "text/plain": [
       "<Figure size 720x480 with 1 Axes>"
      ]
     },
     "metadata": {},
     "output_type": "display_data"
    }
   ],
   "source": [
    "postpred_2 = model_2.predict(idata_2, data=new, kind=\"pps\", inplace=False)\n",
    "plt.hist(postpred_2.posterior_predictive[\"weight\"].values.ravel(), color=\"gray\");"
   ]
  },
  {
   "cell_type": "markdown",
   "metadata": {},
   "source": [
    "## Indicator variables\n",
    "### Predict weight (in pounds) from height (in inches)"
   ]
  },
  {
   "cell_type": "code",
   "execution_count": 11,
   "metadata": {},
   "outputs": [
    {
     "name": "stdout",
     "output_type": "stream",
     "text": [
      "Predicted weight for a 66-inch-tall person is 153 pounds with a sd of 29\n"
     ]
    }
   ],
   "source": [
    "new = pd.DataFrame(dict(height=[66]))\n",
    "pred = model_1.predict(idata_1, data=new, kind=\"pps\", inplace=False)\n",
    "pred_mean = pred.posterior_predictive[\"weight\"].values.mean()\n",
    "pred_sd = pred.posterior_predictive[\"weight\"].values.std()\n",
    "print(\n",
    "    f\"Predicted weight for a 66-inch-tall person is {round(pred_mean)} pounds with a sd of {round(pred_sd)}\"\n",
    ")"
   ]
  },
  {
   "cell_type": "markdown",
   "metadata": {},
   "source": [
    "### Including a binary variable in a regression"
   ]
  },
  {
   "cell_type": "code",
   "execution_count": 12,
   "metadata": {},
   "outputs": [
    {
     "name": "stderr",
     "output_type": "stream",
     "text": [
      "Automatically removing 27/1816 rows from the dataset.\n",
      "Auto-assigning NUTS sampler...\n",
      "Initializing NUTS using jitter+adapt_diag...\n",
      "Multiprocess sampling (4 chains in 4 jobs)\n",
      "NUTS: [weight_sigma, Intercept, male, c_height]\n"
     ]
    },
    {
     "data": {
      "text/html": [
       "\n",
       "    <div>\n",
       "        <style>\n",
       "            /* Turns off some styling */\n",
       "            progress {\n",
       "                /* gets rid of default border in Firefox and Opera. */\n",
       "                border: none;\n",
       "                /* Needs to be in here for Safari polyfill so background images work as expected. */\n",
       "                background-size: auto;\n",
       "            }\n",
       "            .progress-bar-interrupted, .progress-bar-interrupted::-webkit-progress-bar {\n",
       "                background: #F44336;\n",
       "            }\n",
       "        </style>\n",
       "      <progress value='8000' class='' max='8000' style='width:300px; height:20px; vertical-align: middle;'></progress>\n",
       "      100.00% [8000/8000 00:06<00:00 Sampling 4 chains, 0 divergences]\n",
       "    </div>\n",
       "    "
      ],
      "text/plain": [
       "<IPython.core.display.HTML object>"
      ]
     },
     "metadata": {},
     "output_type": "display_data"
    },
    {
     "name": "stderr",
     "output_type": "stream",
     "text": [
      "Sampling 4 chains for 1_000 tune and 1_000 draw iterations (4_000 + 4_000 draws total) took 14 seconds.\n"
     ]
    },
    {
     "data": {
      "text/html": [
       "<div>\n",
       "<style scoped>\n",
       "    .dataframe tbody tr th:only-of-type {\n",
       "        vertical-align: middle;\n",
       "    }\n",
       "\n",
       "    .dataframe tbody tr th {\n",
       "        vertical-align: top;\n",
       "    }\n",
       "\n",
       "    .dataframe thead th {\n",
       "        text-align: right;\n",
       "    }\n",
       "</style>\n",
       "<table border=\"1\" class=\"dataframe\">\n",
       "  <thead>\n",
       "    <tr style=\"text-align: right;\">\n",
       "      <th></th>\n",
       "      <th>mean</th>\n",
       "      <th>sd</th>\n",
       "      <th>hdi_3%</th>\n",
       "      <th>hdi_97%</th>\n",
       "    </tr>\n",
       "  </thead>\n",
       "  <tbody>\n",
       "    <tr>\n",
       "      <th>Intercept</th>\n",
       "      <td>149.530</td>\n",
       "      <td>0.951</td>\n",
       "      <td>147.783</td>\n",
       "      <td>151.342</td>\n",
       "    </tr>\n",
       "    <tr>\n",
       "      <th>c_height</th>\n",
       "      <td>3.881</td>\n",
       "      <td>0.253</td>\n",
       "      <td>3.418</td>\n",
       "      <td>4.374</td>\n",
       "    </tr>\n",
       "    <tr>\n",
       "      <th>male</th>\n",
       "      <td>11.867</td>\n",
       "      <td>2.028</td>\n",
       "      <td>8.027</td>\n",
       "      <td>15.691</td>\n",
       "    </tr>\n",
       "    <tr>\n",
       "      <th>weight_sigma</th>\n",
       "      <td>28.690</td>\n",
       "      <td>0.487</td>\n",
       "      <td>27.762</td>\n",
       "      <td>29.588</td>\n",
       "    </tr>\n",
       "  </tbody>\n",
       "</table>\n",
       "</div>"
      ],
      "text/plain": [
       "                 mean     sd   hdi_3%  hdi_97%\n",
       "Intercept     149.530  0.951  147.783  151.342\n",
       "c_height        3.881  0.253    3.418    4.374\n",
       "male           11.867  2.028    8.027   15.691\n",
       "weight_sigma   28.690  0.487   27.762   29.588"
      ]
     },
     "execution_count": 12,
     "metadata": {},
     "output_type": "execute_result"
    }
   ],
   "source": [
    "model_3 = bmb.Model(\"weight ~ c_height + male\", data=earnings, dropna=True)\n",
    "idata_3 = model_3.fit()\n",
    "az.summary(idata_3, kind=\"stats\")"
   ]
  },
  {
   "cell_type": "code",
   "execution_count": 13,
   "metadata": {},
   "outputs": [
    {
     "name": "stdout",
     "output_type": "stream",
     "text": [
      "Predicted weight for a 70-inch-tall female is 165 pounds with a sd of 29\n"
     ]
    }
   ],
   "source": [
    "new = pd.DataFrame(dict(c_height=[4], male=[0]))\n",
    "pred = model_3.predict(idata_3, data=new, kind=\"pps\", inplace=False)\n",
    "pred_mean = pred.posterior_predictive[\"weight\"].values.mean()\n",
    "pred_sd = pred.posterior_predictive[\"weight\"].values.std()\n",
    "print(\n",
    "    f\"Predicted weight for a 70-inch-tall female is {round(pred_mean)} pounds with a sd of {round(pred_sd)}\"\n",
    ")"
   ]
  },
  {
   "cell_type": "markdown",
   "metadata": {},
   "source": [
    "### Using indicator variables for multiple levels of a categorical predictor\n",
    "Include ethnicity in the regression as a factor"
   ]
  },
  {
   "cell_type": "code",
   "execution_count": 14,
   "metadata": {},
   "outputs": [
    {
     "name": "stderr",
     "output_type": "stream",
     "text": [
      "Automatically removing 27/1816 rows from the dataset.\n",
      "Auto-assigning NUTS sampler...\n",
      "Initializing NUTS using jitter+adapt_diag...\n",
      "Multiprocess sampling (4 chains in 4 jobs)\n",
      "NUTS: [weight_sigma, Intercept, C(ethnicity), male, c_height]\n"
     ]
    },
    {
     "data": {
      "text/html": [
       "\n",
       "    <div>\n",
       "        <style>\n",
       "            /* Turns off some styling */\n",
       "            progress {\n",
       "                /* gets rid of default border in Firefox and Opera. */\n",
       "                border: none;\n",
       "                /* Needs to be in here for Safari polyfill so background images work as expected. */\n",
       "                background-size: auto;\n",
       "            }\n",
       "            .progress-bar-interrupted, .progress-bar-interrupted::-webkit-progress-bar {\n",
       "                background: #F44336;\n",
       "            }\n",
       "        </style>\n",
       "      <progress value='8000' class='' max='8000' style='width:300px; height:20px; vertical-align: middle;'></progress>\n",
       "      100.00% [8000/8000 00:04<00:00 Sampling 4 chains, 0 divergences]\n",
       "    </div>\n",
       "    "
      ],
      "text/plain": [
       "<IPython.core.display.HTML object>"
      ]
     },
     "metadata": {},
     "output_type": "display_data"
    },
    {
     "name": "stderr",
     "output_type": "stream",
     "text": [
      "Sampling 4 chains for 1_000 tune and 1_000 draw iterations (4_000 + 4_000 draws total) took 13 seconds.\n"
     ]
    },
    {
     "data": {
      "text/html": [
       "<div>\n",
       "<style scoped>\n",
       "    .dataframe tbody tr th:only-of-type {\n",
       "        vertical-align: middle;\n",
       "    }\n",
       "\n",
       "    .dataframe tbody tr th {\n",
       "        vertical-align: top;\n",
       "    }\n",
       "\n",
       "    .dataframe thead th {\n",
       "        text-align: right;\n",
       "    }\n",
       "</style>\n",
       "<table border=\"1\" class=\"dataframe\">\n",
       "  <thead>\n",
       "    <tr style=\"text-align: right;\">\n",
       "      <th></th>\n",
       "      <th>mean</th>\n",
       "      <th>sd</th>\n",
       "      <th>hdi_3%</th>\n",
       "      <th>hdi_97%</th>\n",
       "    </tr>\n",
       "  </thead>\n",
       "  <tbody>\n",
       "    <tr>\n",
       "      <th>Intercept</th>\n",
       "      <td>154.356</td>\n",
       "      <td>2.208</td>\n",
       "      <td>150.135</td>\n",
       "      <td>158.402</td>\n",
       "    </tr>\n",
       "    <tr>\n",
       "      <th>c_height</th>\n",
       "      <td>3.851</td>\n",
       "      <td>0.252</td>\n",
       "      <td>3.380</td>\n",
       "      <td>4.308</td>\n",
       "    </tr>\n",
       "    <tr>\n",
       "      <th>male</th>\n",
       "      <td>12.112</td>\n",
       "      <td>1.988</td>\n",
       "      <td>8.309</td>\n",
       "      <td>15.860</td>\n",
       "    </tr>\n",
       "    <tr>\n",
       "      <th>C(ethnicity)[Hispanic]</th>\n",
       "      <td>-6.132</td>\n",
       "      <td>3.546</td>\n",
       "      <td>-12.492</td>\n",
       "      <td>0.720</td>\n",
       "    </tr>\n",
       "    <tr>\n",
       "      <th>C(ethnicity)[Other]</th>\n",
       "      <td>-12.239</td>\n",
       "      <td>5.125</td>\n",
       "      <td>-20.977</td>\n",
       "      <td>-1.720</td>\n",
       "    </tr>\n",
       "    <tr>\n",
       "      <th>C(ethnicity)[White]</th>\n",
       "      <td>-5.208</td>\n",
       "      <td>2.261</td>\n",
       "      <td>-9.204</td>\n",
       "      <td>-0.890</td>\n",
       "    </tr>\n",
       "    <tr>\n",
       "      <th>weight_sigma</th>\n",
       "      <td>28.641</td>\n",
       "      <td>0.467</td>\n",
       "      <td>27.777</td>\n",
       "      <td>29.504</td>\n",
       "    </tr>\n",
       "  </tbody>\n",
       "</table>\n",
       "</div>"
      ],
      "text/plain": [
       "                           mean     sd   hdi_3%  hdi_97%\n",
       "Intercept               154.356  2.208  150.135  158.402\n",
       "c_height                  3.851  0.252    3.380    4.308\n",
       "male                     12.112  1.988    8.309   15.860\n",
       "C(ethnicity)[Hispanic]   -6.132  3.546  -12.492    0.720\n",
       "C(ethnicity)[Other]     -12.239  5.125  -20.977   -1.720\n",
       "C(ethnicity)[White]      -5.208  2.261   -9.204   -0.890\n",
       "weight_sigma             28.641  0.467   27.777   29.504"
      ]
     },
     "execution_count": 14,
     "metadata": {},
     "output_type": "execute_result"
    }
   ],
   "source": [
    "model_4 = bmb.Model(\n",
    "    \"weight ~ c_height + male + C(ethnicity)\", data=earnings, dropna=True\n",
    ")\n",
    "idata_4 = model_4.fit()\n",
    "az.summary(idata_4, kind=\"stats\")"
   ]
  },
  {
   "cell_type": "markdown",
   "metadata": {},
   "source": [
    "### Choose the baseline category by setting the levels"
   ]
  },
  {
   "cell_type": "code",
   "execution_count": 15,
   "metadata": {},
   "outputs": [
    {
     "name": "stderr",
     "output_type": "stream",
     "text": [
      "Automatically removing 27/1816 rows from the dataset.\n",
      "Auto-assigning NUTS sampler...\n",
      "Initializing NUTS using jitter+adapt_diag...\n",
      "Multiprocess sampling (4 chains in 4 jobs)\n",
      "NUTS: [weight_sigma, Intercept, eth, male, c_height]\n"
     ]
    },
    {
     "data": {
      "text/html": [
       "\n",
       "    <div>\n",
       "        <style>\n",
       "            /* Turns off some styling */\n",
       "            progress {\n",
       "                /* gets rid of default border in Firefox and Opera. */\n",
       "                border: none;\n",
       "                /* Needs to be in here for Safari polyfill so background images work as expected. */\n",
       "                background-size: auto;\n",
       "            }\n",
       "            .progress-bar-interrupted, .progress-bar-interrupted::-webkit-progress-bar {\n",
       "                background: #F44336;\n",
       "            }\n",
       "        </style>\n",
       "      <progress value='8000' class='' max='8000' style='width:300px; height:20px; vertical-align: middle;'></progress>\n",
       "      100.00% [8000/8000 00:04<00:00 Sampling 4 chains, 0 divergences]\n",
       "    </div>\n",
       "    "
      ],
      "text/plain": [
       "<IPython.core.display.HTML object>"
      ]
     },
     "metadata": {},
     "output_type": "display_data"
    },
    {
     "name": "stderr",
     "output_type": "stream",
     "text": [
      "Sampling 4 chains for 1_000 tune and 1_000 draw iterations (4_000 + 4_000 draws total) took 13 seconds.\n"
     ]
    },
    {
     "data": {
      "text/html": [
       "<div>\n",
       "<style scoped>\n",
       "    .dataframe tbody tr th:only-of-type {\n",
       "        vertical-align: middle;\n",
       "    }\n",
       "\n",
       "    .dataframe tbody tr th {\n",
       "        vertical-align: top;\n",
       "    }\n",
       "\n",
       "    .dataframe thead th {\n",
       "        text-align: right;\n",
       "    }\n",
       "</style>\n",
       "<table border=\"1\" class=\"dataframe\">\n",
       "  <thead>\n",
       "    <tr style=\"text-align: right;\">\n",
       "      <th></th>\n",
       "      <th>mean</th>\n",
       "      <th>sd</th>\n",
       "      <th>hdi_3%</th>\n",
       "      <th>hdi_97%</th>\n",
       "    </tr>\n",
       "  </thead>\n",
       "  <tbody>\n",
       "    <tr>\n",
       "      <th>Intercept</th>\n",
       "      <td>149.133</td>\n",
       "      <td>0.971</td>\n",
       "      <td>147.309</td>\n",
       "      <td>150.953</td>\n",
       "    </tr>\n",
       "    <tr>\n",
       "      <th>c_height</th>\n",
       "      <td>3.857</td>\n",
       "      <td>0.252</td>\n",
       "      <td>3.388</td>\n",
       "      <td>4.334</td>\n",
       "    </tr>\n",
       "    <tr>\n",
       "      <th>male</th>\n",
       "      <td>12.077</td>\n",
       "      <td>1.995</td>\n",
       "      <td>8.223</td>\n",
       "      <td>15.741</td>\n",
       "    </tr>\n",
       "    <tr>\n",
       "      <th>eth[Black]</th>\n",
       "      <td>5.226</td>\n",
       "      <td>2.288</td>\n",
       "      <td>1.105</td>\n",
       "      <td>9.759</td>\n",
       "    </tr>\n",
       "    <tr>\n",
       "      <th>eth[Hispanic]</th>\n",
       "      <td>-0.924</td>\n",
       "      <td>2.954</td>\n",
       "      <td>-6.332</td>\n",
       "      <td>4.814</td>\n",
       "    </tr>\n",
       "    <tr>\n",
       "      <th>eth[Other]</th>\n",
       "      <td>-7.173</td>\n",
       "      <td>4.819</td>\n",
       "      <td>-15.649</td>\n",
       "      <td>2.175</td>\n",
       "    </tr>\n",
       "    <tr>\n",
       "      <th>weight_sigma</th>\n",
       "      <td>28.656</td>\n",
       "      <td>0.477</td>\n",
       "      <td>27.747</td>\n",
       "      <td>29.518</td>\n",
       "    </tr>\n",
       "  </tbody>\n",
       "</table>\n",
       "</div>"
      ],
      "text/plain": [
       "                  mean     sd   hdi_3%  hdi_97%\n",
       "Intercept      149.133  0.971  147.309  150.953\n",
       "c_height         3.857  0.252    3.388    4.334\n",
       "male            12.077  1.995    8.223   15.741\n",
       "eth[Black]       5.226  2.288    1.105    9.759\n",
       "eth[Hispanic]   -0.924  2.954   -6.332    4.814\n",
       "eth[Other]      -7.173  4.819  -15.649    2.175\n",
       "weight_sigma    28.656  0.477   27.747   29.518"
      ]
     },
     "execution_count": 15,
     "metadata": {},
     "output_type": "execute_result"
    }
   ],
   "source": [
    "earnings[\"eth\"] = pd.Categorical(\n",
    "    earnings[\"ethnicity\"],\n",
    "    categories=[\"White\", \"Black\", \"Hispanic\", \"Other\"],\n",
    "    ordered=True,\n",
    ")\n",
    "model_5 = bmb.Model(\"weight ~ c_height + male + eth\", data=earnings, dropna=True)\n",
    "idata_5 = model_5.fit()\n",
    "az.summary(idata_5, kind=\"stats\")"
   ]
  },
  {
   "cell_type": "markdown",
   "metadata": {},
   "source": [
    "### Alternatively create indicators for the four ethnic groups directly:"
   ]
  },
  {
   "cell_type": "code",
   "execution_count": 16,
   "metadata": {},
   "outputs": [],
   "source": [
    "earnings[\"eth_white\"] = earnings[\"ethnicity\"] == \"White\"\n",
    "earnings[\"eth_black\"] = earnings[\"ethnicity\"] == \"Black\"\n",
    "earnings[\"eth_hispanic\"] = earnings[\"ethnicity\"] == \"Hispanic\"\n",
    "earnings[\"eth_other\"] = earnings[\"ethnicity\"] == \"Other\""
   ]
  },
  {
   "cell_type": "code",
   "execution_count": 17,
   "metadata": {},
   "outputs": [
    {
     "name": "stderr",
     "output_type": "stream",
     "text": [
      "Automatically removing 27/1816 rows from the dataset.\n",
      "Auto-assigning NUTS sampler...\n",
      "Initializing NUTS using jitter+adapt_diag...\n",
      "Multiprocess sampling (4 chains in 4 jobs)\n",
      "NUTS: [weight_sigma, Intercept, eth_other, eth_hispanic, eth_black, male, c_height]\n"
     ]
    },
    {
     "data": {
      "text/html": [
       "\n",
       "    <div>\n",
       "        <style>\n",
       "            /* Turns off some styling */\n",
       "            progress {\n",
       "                /* gets rid of default border in Firefox and Opera. */\n",
       "                border: none;\n",
       "                /* Needs to be in here for Safari polyfill so background images work as expected. */\n",
       "                background-size: auto;\n",
       "            }\n",
       "            .progress-bar-interrupted, .progress-bar-interrupted::-webkit-progress-bar {\n",
       "                background: #F44336;\n",
       "            }\n",
       "        </style>\n",
       "      <progress value='8000' class='' max='8000' style='width:300px; height:20px; vertical-align: middle;'></progress>\n",
       "      100.00% [8000/8000 00:15<00:00 Sampling 4 chains, 0 divergences]\n",
       "    </div>\n",
       "    "
      ],
      "text/plain": [
       "<IPython.core.display.HTML object>"
      ]
     },
     "metadata": {},
     "output_type": "display_data"
    },
    {
     "name": "stderr",
     "output_type": "stream",
     "text": [
      "Sampling 4 chains for 1_000 tune and 1_000 draw iterations (4_000 + 4_000 draws total) took 26 seconds.\n"
     ]
    },
    {
     "data": {
      "text/html": [
       "<div>\n",
       "<style scoped>\n",
       "    .dataframe tbody tr th:only-of-type {\n",
       "        vertical-align: middle;\n",
       "    }\n",
       "\n",
       "    .dataframe tbody tr th {\n",
       "        vertical-align: top;\n",
       "    }\n",
       "\n",
       "    .dataframe thead th {\n",
       "        text-align: right;\n",
       "    }\n",
       "</style>\n",
       "<table border=\"1\" class=\"dataframe\">\n",
       "  <thead>\n",
       "    <tr style=\"text-align: right;\">\n",
       "      <th></th>\n",
       "      <th>mean</th>\n",
       "      <th>sd</th>\n",
       "      <th>hdi_3%</th>\n",
       "      <th>hdi_97%</th>\n",
       "    </tr>\n",
       "  </thead>\n",
       "  <tbody>\n",
       "    <tr>\n",
       "      <th>Intercept</th>\n",
       "      <td>149.125</td>\n",
       "      <td>0.979</td>\n",
       "      <td>147.387</td>\n",
       "      <td>151.050</td>\n",
       "    </tr>\n",
       "    <tr>\n",
       "      <th>c_height</th>\n",
       "      <td>3.851</td>\n",
       "      <td>0.252</td>\n",
       "      <td>3.390</td>\n",
       "      <td>4.330</td>\n",
       "    </tr>\n",
       "    <tr>\n",
       "      <th>male</th>\n",
       "      <td>12.120</td>\n",
       "      <td>1.976</td>\n",
       "      <td>8.395</td>\n",
       "      <td>15.663</td>\n",
       "    </tr>\n",
       "    <tr>\n",
       "      <th>eth_black</th>\n",
       "      <td>5.191</td>\n",
       "      <td>2.225</td>\n",
       "      <td>1.037</td>\n",
       "      <td>9.428</td>\n",
       "    </tr>\n",
       "    <tr>\n",
       "      <th>eth_hispanic</th>\n",
       "      <td>-0.970</td>\n",
       "      <td>2.937</td>\n",
       "      <td>-6.516</td>\n",
       "      <td>4.384</td>\n",
       "    </tr>\n",
       "    <tr>\n",
       "      <th>eth_other</th>\n",
       "      <td>-7.013</td>\n",
       "      <td>4.819</td>\n",
       "      <td>-16.082</td>\n",
       "      <td>2.245</td>\n",
       "    </tr>\n",
       "    <tr>\n",
       "      <th>weight_sigma</th>\n",
       "      <td>28.656</td>\n",
       "      <td>0.474</td>\n",
       "      <td>27.810</td>\n",
       "      <td>29.576</td>\n",
       "    </tr>\n",
       "  </tbody>\n",
       "</table>\n",
       "</div>"
      ],
      "text/plain": [
       "                 mean     sd   hdi_3%  hdi_97%\n",
       "Intercept     149.125  0.979  147.387  151.050\n",
       "c_height        3.851  0.252    3.390    4.330\n",
       "male           12.120  1.976    8.395   15.663\n",
       "eth_black       5.191  2.225    1.037    9.428\n",
       "eth_hispanic   -0.970  2.937   -6.516    4.384\n",
       "eth_other      -7.013  4.819  -16.082    2.245\n",
       "weight_sigma   28.656  0.474   27.810   29.576"
      ]
     },
     "execution_count": 17,
     "metadata": {},
     "output_type": "execute_result"
    }
   ],
   "source": [
    "model_6 = bmb.Model(\n",
    "    \"weight ~ c_height + male + eth_black + eth_hispanic + eth_other\",\n",
    "    data=earnings,\n",
    "    dropna=True,\n",
    ")\n",
    "idata_6 = model_6.fit()\n",
    "az.summary(idata_6, kind=\"stats\")"
   ]
  },
  {
   "cell_type": "code",
   "execution_count": null,
   "metadata": {},
   "outputs": [],
   "source": []
  }
 ],
 "metadata": {
  "interpreter": {
   "hash": "634f3c5041def912b19dcf958855ffc8c4bd510d44107b6b2100167091fe4b5d"
  },
  "kernelspec": {
   "display_name": "Python 3.8.3 64-bit ('base': conda)",
   "language": "python",
   "name": "python3"
  },
  "language_info": {
   "codemirror_mode": {
    "name": "ipython",
    "version": 3
   },
   "file_extension": ".py",
   "mimetype": "text/x-python",
   "name": "python",
   "nbconvert_exporter": "python",
   "pygments_lexer": "ipython3",
   "version": "3.9.7"
  },
  "orig_nbformat": 4
 },
 "nbformat": 4,
 "nbformat_minor": 2
}

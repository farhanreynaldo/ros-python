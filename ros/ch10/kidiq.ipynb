{
 "cells": [
  {
   "cell_type": "raw",
   "metadata": {},
   "source": [
    "---\n",
    "title: \"Regression and Other Stories: KidIQ\"\n",
    "author: \"Farhan Reynaldo\"\n",
    "date: \"Nov 11th, 2021\"\n",
    "format: \n",
    "  html:\n",
    "    warning: false\n",
    "    code-tools: true\n",
    "    code-overflow: wrap\n",
    "jupyter: python3\n",
    "---"
   ]
  },
  {
   "cell_type": "code",
   "execution_count": 1,
   "metadata": {},
   "outputs": [],
   "source": [
    "from pathlib import Path\n",
    "\n",
    "import arviz as az\n",
    "import bambi as bmb\n",
    "import matplotlib.pyplot as plt\n",
    "import numpy as np\n",
    "import pandas as pd\n",
    "\n",
    "DATA_PATH = Path(\"../../data\")"
   ]
  },
  {
   "cell_type": "code",
   "execution_count": 2,
   "metadata": {},
   "outputs": [],
   "source": [
    "rng = np.random.default_rng(seed=12)\n",
    "az.style.use(\"arviz-white\")"
   ]
  },
  {
   "cell_type": "code",
   "execution_count": 3,
   "metadata": {},
   "outputs": [
    {
     "data": {
      "text/html": [
       "<div>\n",
       "<style scoped>\n",
       "    .dataframe tbody tr th:only-of-type {\n",
       "        vertical-align: middle;\n",
       "    }\n",
       "\n",
       "    .dataframe tbody tr th {\n",
       "        vertical-align: top;\n",
       "    }\n",
       "\n",
       "    .dataframe thead th {\n",
       "        text-align: right;\n",
       "    }\n",
       "</style>\n",
       "<table border=\"1\" class=\"dataframe\">\n",
       "  <thead>\n",
       "    <tr style=\"text-align: right;\">\n",
       "      <th></th>\n",
       "      <th>kid_score</th>\n",
       "      <th>mom_hs</th>\n",
       "      <th>mom_iq</th>\n",
       "      <th>mom_work</th>\n",
       "      <th>mom_age</th>\n",
       "    </tr>\n",
       "  </thead>\n",
       "  <tbody>\n",
       "    <tr>\n",
       "      <th>0</th>\n",
       "      <td>65</td>\n",
       "      <td>1</td>\n",
       "      <td>121.117529</td>\n",
       "      <td>4</td>\n",
       "      <td>27</td>\n",
       "    </tr>\n",
       "    <tr>\n",
       "      <th>1</th>\n",
       "      <td>98</td>\n",
       "      <td>1</td>\n",
       "      <td>89.361882</td>\n",
       "      <td>4</td>\n",
       "      <td>25</td>\n",
       "    </tr>\n",
       "    <tr>\n",
       "      <th>2</th>\n",
       "      <td>85</td>\n",
       "      <td>1</td>\n",
       "      <td>115.443165</td>\n",
       "      <td>4</td>\n",
       "      <td>27</td>\n",
       "    </tr>\n",
       "    <tr>\n",
       "      <th>3</th>\n",
       "      <td>83</td>\n",
       "      <td>1</td>\n",
       "      <td>99.449639</td>\n",
       "      <td>3</td>\n",
       "      <td>25</td>\n",
       "    </tr>\n",
       "    <tr>\n",
       "      <th>4</th>\n",
       "      <td>115</td>\n",
       "      <td>1</td>\n",
       "      <td>92.745710</td>\n",
       "      <td>4</td>\n",
       "      <td>27</td>\n",
       "    </tr>\n",
       "  </tbody>\n",
       "</table>\n",
       "</div>"
      ],
      "text/plain": [
       "   kid_score  mom_hs      mom_iq  mom_work  mom_age\n",
       "0         65       1  121.117529         4       27\n",
       "1         98       1   89.361882         4       25\n",
       "2         85       1  115.443165         4       27\n",
       "3         83       1   99.449639         3       25\n",
       "4        115       1   92.745710         4       27"
      ]
     },
     "execution_count": 3,
     "metadata": {},
     "output_type": "execute_result"
    }
   ],
   "source": [
    "kidiq = pd.read_csv(DATA_PATH / \"kidiq.csv\")\n",
    "kidiq.head()"
   ]
  },
  {
   "cell_type": "markdown",
   "metadata": {},
   "source": [
    "## A single predictor\n",
    "### A single binary predictor"
   ]
  },
  {
   "cell_type": "code",
   "execution_count": 4,
   "metadata": {},
   "outputs": [
    {
     "name": "stderr",
     "output_type": "stream",
     "text": [
      "Auto-assigning NUTS sampler...\n",
      "Initializing NUTS using jitter+adapt_diag...\n",
      "Multiprocess sampling (4 chains in 4 jobs)\n",
      "NUTS: [kid_score_sigma, Intercept, mom_hs]\n"
     ]
    },
    {
     "data": {
      "text/html": [
       "\n",
       "    <div>\n",
       "        <style>\n",
       "            /* Turns off some styling */\n",
       "            progress {\n",
       "                /* gets rid of default border in Firefox and Opera. */\n",
       "                border: none;\n",
       "                /* Needs to be in here for Safari polyfill so background images work as expected. */\n",
       "                background-size: auto;\n",
       "            }\n",
       "            .progress-bar-interrupted, .progress-bar-interrupted::-webkit-progress-bar {\n",
       "                background: #F44336;\n",
       "            }\n",
       "        </style>\n",
       "      <progress value='8000' class='' max='8000' style='width:300px; height:20px; vertical-align: middle;'></progress>\n",
       "      100.00% [8000/8000 00:04<00:00 Sampling 4 chains, 0 divergences]\n",
       "    </div>\n",
       "    "
      ],
      "text/plain": [
       "<IPython.core.display.HTML object>"
      ]
     },
     "metadata": {},
     "output_type": "display_data"
    },
    {
     "name": "stderr",
     "output_type": "stream",
     "text": [
      "Sampling 4 chains for 1_000 tune and 1_000 draw iterations (4_000 + 4_000 draws total) took 17 seconds.\n"
     ]
    },
    {
     "data": {
      "text/html": [
       "<div>\n",
       "<style scoped>\n",
       "    .dataframe tbody tr th:only-of-type {\n",
       "        vertical-align: middle;\n",
       "    }\n",
       "\n",
       "    .dataframe tbody tr th {\n",
       "        vertical-align: top;\n",
       "    }\n",
       "\n",
       "    .dataframe thead th {\n",
       "        text-align: right;\n",
       "    }\n",
       "</style>\n",
       "<table border=\"1\" class=\"dataframe\">\n",
       "  <thead>\n",
       "    <tr style=\"text-align: right;\">\n",
       "      <th></th>\n",
       "      <th>mean</th>\n",
       "      <th>sd</th>\n",
       "      <th>hdi_3%</th>\n",
       "      <th>hdi_97%</th>\n",
       "    </tr>\n",
       "  </thead>\n",
       "  <tbody>\n",
       "    <tr>\n",
       "      <th>Intercept</th>\n",
       "      <td>77.552</td>\n",
       "      <td>2.130</td>\n",
       "      <td>73.627</td>\n",
       "      <td>81.545</td>\n",
       "    </tr>\n",
       "    <tr>\n",
       "      <th>mom_hs</th>\n",
       "      <td>11.791</td>\n",
       "      <td>2.371</td>\n",
       "      <td>7.309</td>\n",
       "      <td>16.157</td>\n",
       "    </tr>\n",
       "    <tr>\n",
       "      <th>kid_score_sigma</th>\n",
       "      <td>19.886</td>\n",
       "      <td>0.676</td>\n",
       "      <td>18.673</td>\n",
       "      <td>21.184</td>\n",
       "    </tr>\n",
       "  </tbody>\n",
       "</table>\n",
       "</div>"
      ],
      "text/plain": [
       "                   mean     sd  hdi_3%  hdi_97%\n",
       "Intercept        77.552  2.130  73.627   81.545\n",
       "mom_hs           11.791  2.371   7.309   16.157\n",
       "kid_score_sigma  19.886  0.676  18.673   21.184"
      ]
     },
     "execution_count": 4,
     "metadata": {},
     "output_type": "execute_result"
    }
   ],
   "source": [
    "model_1 = bmb.Model(\"kid_score ~ mom_hs\", data=kidiq)\n",
    "idata_1 = model_1.fit()\n",
    "az.summary(idata_1, kind=\"stats\")"
   ]
  },
  {
   "cell_type": "markdown",
   "metadata": {},
   "source": [
    "### A single continuous predictor"
   ]
  },
  {
   "cell_type": "code",
   "execution_count": 5,
   "metadata": {},
   "outputs": [
    {
     "name": "stderr",
     "output_type": "stream",
     "text": [
      "Auto-assigning NUTS sampler...\n",
      "Initializing NUTS using jitter+adapt_diag...\n",
      "Multiprocess sampling (4 chains in 4 jobs)\n",
      "NUTS: [kid_score_sigma, Intercept, mom_iq]\n"
     ]
    },
    {
     "data": {
      "text/html": [
       "\n",
       "    <div>\n",
       "        <style>\n",
       "            /* Turns off some styling */\n",
       "            progress {\n",
       "                /* gets rid of default border in Firefox and Opera. */\n",
       "                border: none;\n",
       "                /* Needs to be in here for Safari polyfill so background images work as expected. */\n",
       "                background-size: auto;\n",
       "            }\n",
       "            .progress-bar-interrupted, .progress-bar-interrupted::-webkit-progress-bar {\n",
       "                background: #F44336;\n",
       "            }\n",
       "        </style>\n",
       "      <progress value='8000' class='' max='8000' style='width:300px; height:20px; vertical-align: middle;'></progress>\n",
       "      100.00% [8000/8000 00:06<00:00 Sampling 4 chains, 0 divergences]\n",
       "    </div>\n",
       "    "
      ],
      "text/plain": [
       "<IPython.core.display.HTML object>"
      ]
     },
     "metadata": {},
     "output_type": "display_data"
    },
    {
     "name": "stderr",
     "output_type": "stream",
     "text": [
      "Sampling 4 chains for 1_000 tune and 1_000 draw iterations (4_000 + 4_000 draws total) took 20 seconds.\n"
     ]
    },
    {
     "data": {
      "text/html": [
       "<div>\n",
       "<style scoped>\n",
       "    .dataframe tbody tr th:only-of-type {\n",
       "        vertical-align: middle;\n",
       "    }\n",
       "\n",
       "    .dataframe tbody tr th {\n",
       "        vertical-align: top;\n",
       "    }\n",
       "\n",
       "    .dataframe thead th {\n",
       "        text-align: right;\n",
       "    }\n",
       "</style>\n",
       "<table border=\"1\" class=\"dataframe\">\n",
       "  <thead>\n",
       "    <tr style=\"text-align: right;\">\n",
       "      <th></th>\n",
       "      <th>mean</th>\n",
       "      <th>sd</th>\n",
       "      <th>hdi_3%</th>\n",
       "      <th>hdi_97%</th>\n",
       "    </tr>\n",
       "  </thead>\n",
       "  <tbody>\n",
       "    <tr>\n",
       "      <th>Intercept</th>\n",
       "      <td>25.646</td>\n",
       "      <td>5.921</td>\n",
       "      <td>15.310</td>\n",
       "      <td>37.783</td>\n",
       "    </tr>\n",
       "    <tr>\n",
       "      <th>mom_iq</th>\n",
       "      <td>0.612</td>\n",
       "      <td>0.059</td>\n",
       "      <td>0.504</td>\n",
       "      <td>0.727</td>\n",
       "    </tr>\n",
       "    <tr>\n",
       "      <th>kid_score_sigma</th>\n",
       "      <td>18.312</td>\n",
       "      <td>0.627</td>\n",
       "      <td>17.109</td>\n",
       "      <td>19.448</td>\n",
       "    </tr>\n",
       "  </tbody>\n",
       "</table>\n",
       "</div>"
      ],
      "text/plain": [
       "                   mean     sd  hdi_3%  hdi_97%\n",
       "Intercept        25.646  5.921  15.310   37.783\n",
       "mom_iq            0.612  0.059   0.504    0.727\n",
       "kid_score_sigma  18.312  0.627  17.109   19.448"
      ]
     },
     "execution_count": 5,
     "metadata": {},
     "output_type": "execute_result"
    }
   ],
   "source": [
    "model_2 = bmb.Model(\"kid_score ~ mom_iq\", data=kidiq)\n",
    "idata_2 = model_2.fit()\n",
    "az.summary(idata_2, kind=\"stats\")"
   ]
  },
  {
   "cell_type": "markdown",
   "metadata": {},
   "source": [
    "### Displaying a regression line as a function of one input variable"
   ]
  },
  {
   "cell_type": "code",
   "execution_count": 6,
   "metadata": {},
   "outputs": [
    {
     "data": {
      "text/plain": [
       "[<matplotlib.lines.Line2D at 0x7fef502aec40>]"
      ]
     },
     "execution_count": 6,
     "metadata": {},
     "output_type": "execute_result"
    },
    {
     "data": {
      "image/png": "[encoded data removed]",
      "text/plain": [
       "<Figure size 720x480 with 1 Axes>"
      ]
     },
     "metadata": {},
     "output_type": "display_data"
    }
   ],
   "source": [
    "stats_2 = az.summary(idata_2, kind=\"stats\")[\"mean\"]\n",
    "x = np.arange(kidiq[\"mom_iq\"].min(), kidiq[\"mom_iq\"].max())\n",
    "y_pred = stats_2[\"Intercept\"] + stats_2[\"mom_iq\"] * x\n",
    "\n",
    "fig, ax = plt.subplots()\n",
    "ax.scatter(\"mom_iq\", \"kid_score\", data=kidiq, color=\"black\", s=10)\n",
    "ax.set_xlabel(\"Mother IQ score\")\n",
    "ax.set_ylabel(\"Child test score\")\n",
    "ax.plot(x, y_pred, color=\"black\")"
   ]
  },
  {
   "cell_type": "markdown",
   "metadata": {},
   "source": [
    "## Two predictors\n",
    "### Linear regression"
   ]
  },
  {
   "cell_type": "code",
   "execution_count": 7,
   "metadata": {},
   "outputs": [
    {
     "name": "stderr",
     "output_type": "stream",
     "text": [
      "Auto-assigning NUTS sampler...\n",
      "Initializing NUTS using jitter+adapt_diag...\n",
      "Multiprocess sampling (4 chains in 4 jobs)\n",
      "NUTS: [kid_score_sigma, Intercept, mom_iq, mom_hs]\n"
     ]
    },
    {
     "data": {
      "text/html": [
       "\n",
       "    <div>\n",
       "        <style>\n",
       "            /* Turns off some styling */\n",
       "            progress {\n",
       "                /* gets rid of default border in Firefox and Opera. */\n",
       "                border: none;\n",
       "                /* Needs to be in here for Safari polyfill so background images work as expected. */\n",
       "                background-size: auto;\n",
       "            }\n",
       "            .progress-bar-interrupted, .progress-bar-interrupted::-webkit-progress-bar {\n",
       "                background: #F44336;\n",
       "            }\n",
       "        </style>\n",
       "      <progress value='8000' class='' max='8000' style='width:300px; height:20px; vertical-align: middle;'></progress>\n",
       "      100.00% [8000/8000 00:13<00:00 Sampling 4 chains, 0 divergences]\n",
       "    </div>\n",
       "    "
      ],
      "text/plain": [
       "<IPython.core.display.HTML object>"
      ]
     },
     "metadata": {},
     "output_type": "display_data"
    },
    {
     "name": "stderr",
     "output_type": "stream",
     "text": [
      "Sampling 4 chains for 1_000 tune and 1_000 draw iterations (4_000 + 4_000 draws total) took 27 seconds.\n"
     ]
    },
    {
     "data": {
      "text/html": [
       "<div>\n",
       "<style scoped>\n",
       "    .dataframe tbody tr th:only-of-type {\n",
       "        vertical-align: middle;\n",
       "    }\n",
       "\n",
       "    .dataframe tbody tr th {\n",
       "        vertical-align: top;\n",
       "    }\n",
       "\n",
       "    .dataframe thead th {\n",
       "        text-align: right;\n",
       "    }\n",
       "</style>\n",
       "<table border=\"1\" class=\"dataframe\">\n",
       "  <thead>\n",
       "    <tr style=\"text-align: right;\">\n",
       "      <th></th>\n",
       "      <th>mean</th>\n",
       "      <th>sd</th>\n",
       "      <th>hdi_3%</th>\n",
       "      <th>hdi_97%</th>\n",
       "    </tr>\n",
       "  </thead>\n",
       "  <tbody>\n",
       "    <tr>\n",
       "      <th>Intercept</th>\n",
       "      <td>25.678</td>\n",
       "      <td>5.946</td>\n",
       "      <td>14.861</td>\n",
       "      <td>37.316</td>\n",
       "    </tr>\n",
       "    <tr>\n",
       "      <th>mom_hs</th>\n",
       "      <td>5.950</td>\n",
       "      <td>2.201</td>\n",
       "      <td>1.996</td>\n",
       "      <td>10.288</td>\n",
       "    </tr>\n",
       "    <tr>\n",
       "      <th>mom_iq</th>\n",
       "      <td>0.564</td>\n",
       "      <td>0.061</td>\n",
       "      <td>0.449</td>\n",
       "      <td>0.676</td>\n",
       "    </tr>\n",
       "    <tr>\n",
       "      <th>kid_score_sigma</th>\n",
       "      <td>18.161</td>\n",
       "      <td>0.624</td>\n",
       "      <td>17.068</td>\n",
       "      <td>19.377</td>\n",
       "    </tr>\n",
       "  </tbody>\n",
       "</table>\n",
       "</div>"
      ],
      "text/plain": [
       "                   mean     sd  hdi_3%  hdi_97%\n",
       "Intercept        25.678  5.946  14.861   37.316\n",
       "mom_hs            5.950  2.201   1.996   10.288\n",
       "mom_iq            0.564  0.061   0.449    0.676\n",
       "kid_score_sigma  18.161  0.624  17.068   19.377"
      ]
     },
     "execution_count": 7,
     "metadata": {},
     "output_type": "execute_result"
    }
   ],
   "source": [
    "model_3 = bmb.Model(\"kid_score ~ mom_hs + mom_iq\", data=kidiq)\n",
    "idata_3 = model_3.fit()\n",
    "az.summary(idata_3, kind=\"stats\")"
   ]
  },
  {
   "cell_type": "markdown",
   "metadata": {},
   "source": [
    "## Graphical displays of data and fitted models\n",
    "### Two fitted regression lines -- model with no interaction"
   ]
  },
  {
   "cell_type": "code",
   "execution_count": 9,
   "metadata": {},
   "outputs": [
    {
     "data": {
      "text/plain": [
       "[<matplotlib.lines.Line2D at 0x7fef36229460>]"
      ]
     },
     "execution_count": 9,
     "metadata": {},
     "output_type": "execute_result"
    },
    {
     "data": {
      "image/png": "[encoded data removed]",
      "text/plain": [
       "<Figure size 720x480 with 1 Axes>"
      ]
     },
     "metadata": {},
     "output_type": "display_data"
    }
   ],
   "source": [
    "stats_3 = az.summary(idata_3, kind=\"stats\")[\"mean\"]\n",
    "x = np.arange(kidiq[\"mom_iq\"].min(), kidiq[\"mom_iq\"].max())\n",
    "y_pred_mom_hs_1 = stats_3[\"Intercept\"] + stats_3[\"mom_hs\"] + stats_3[\"mom_iq\"] * x\n",
    "y_pred_mom_hs_0 = stats_3[\"Intercept\"] + stats_3[\"mom_iq\"] * x\n",
    "\n",
    "fig, ax = plt.subplots()\n",
    "ax.scatter(\"mom_iq\", \"kid_score\", data=kidiq.query(\"mom_hs == 1\"), color=\"black\", s=10)\n",
    "ax.scatter(\"mom_iq\", \"kid_score\", data=kidiq.query(\"mom_hs == 0\"), color=\"gray\", s=10)\n",
    "ax.plot(x, y_pred_mom_hs_1, color=\"black\")\n",
    "ax.plot(x, y_pred_mom_hs_0, color=\"gray\")"
   ]
  },
  {
   "cell_type": "markdown",
   "metadata": {},
   "source": [
    "### Two fitted regression lines -- model with interaction"
   ]
  },
  {
   "cell_type": "code",
   "execution_count": 10,
   "metadata": {},
   "outputs": [
    {
     "name": "stderr",
     "output_type": "stream",
     "text": [
      "Auto-assigning NUTS sampler...\n",
      "Initializing NUTS using jitter+adapt_diag...\n",
      "Multiprocess sampling (4 chains in 4 jobs)\n",
      "NUTS: [kid_score_sigma, Intercept, mom_hs:mom_iq, mom_iq, mom_hs]\n"
     ]
    },
    {
     "data": {
      "text/html": [
       "\n",
       "    <div>\n",
       "        <style>\n",
       "            /* Turns off some styling */\n",
       "            progress {\n",
       "                /* gets rid of default border in Firefox and Opera. */\n",
       "                border: none;\n",
       "                /* Needs to be in here for Safari polyfill so background images work as expected. */\n",
       "                background-size: auto;\n",
       "            }\n",
       "            .progress-bar-interrupted, .progress-bar-interrupted::-webkit-progress-bar {\n",
       "                background: #F44336;\n",
       "            }\n",
       "        </style>\n",
       "      <progress value='8000' class='' max='8000' style='width:300px; height:20px; vertical-align: middle;'></progress>\n",
       "      100.00% [8000/8000 00:32<00:00 Sampling 4 chains, 0 divergences]\n",
       "    </div>\n",
       "    "
      ],
      "text/plain": [
       "<IPython.core.display.HTML object>"
      ]
     },
     "metadata": {},
     "output_type": "display_data"
    },
    {
     "name": "stderr",
     "output_type": "stream",
     "text": [
      "Sampling 4 chains for 1_000 tune and 1_000 draw iterations (4_000 + 4_000 draws total) took 44 seconds.\n"
     ]
    },
    {
     "data": {
      "text/html": [
       "<div>\n",
       "<style scoped>\n",
       "    .dataframe tbody tr th:only-of-type {\n",
       "        vertical-align: middle;\n",
       "    }\n",
       "\n",
       "    .dataframe tbody tr th {\n",
       "        vertical-align: top;\n",
       "    }\n",
       "\n",
       "    .dataframe thead th {\n",
       "        text-align: right;\n",
       "    }\n",
       "</style>\n",
       "<table border=\"1\" class=\"dataframe\">\n",
       "  <thead>\n",
       "    <tr style=\"text-align: right;\">\n",
       "      <th></th>\n",
       "      <th>mean</th>\n",
       "      <th>sd</th>\n",
       "      <th>hdi_3%</th>\n",
       "      <th>hdi_97%</th>\n",
       "    </tr>\n",
       "  </thead>\n",
       "  <tbody>\n",
       "    <tr>\n",
       "      <th>Intercept</th>\n",
       "      <td>-9.671</td>\n",
       "      <td>13.954</td>\n",
       "      <td>-35.952</td>\n",
       "      <td>16.048</td>\n",
       "    </tr>\n",
       "    <tr>\n",
       "      <th>mom_hs</th>\n",
       "      <td>49.183</td>\n",
       "      <td>15.520</td>\n",
       "      <td>21.813</td>\n",
       "      <td>79.798</td>\n",
       "    </tr>\n",
       "    <tr>\n",
       "      <th>mom_iq</th>\n",
       "      <td>0.949</td>\n",
       "      <td>0.151</td>\n",
       "      <td>0.665</td>\n",
       "      <td>1.227</td>\n",
       "    </tr>\n",
       "    <tr>\n",
       "      <th>mom_hs:mom_iq</th>\n",
       "      <td>-0.462</td>\n",
       "      <td>0.164</td>\n",
       "      <td>-0.764</td>\n",
       "      <td>-0.154</td>\n",
       "    </tr>\n",
       "    <tr>\n",
       "      <th>kid_score_sigma</th>\n",
       "      <td>18.000</td>\n",
       "      <td>0.617</td>\n",
       "      <td>16.815</td>\n",
       "      <td>19.118</td>\n",
       "    </tr>\n",
       "  </tbody>\n",
       "</table>\n",
       "</div>"
      ],
      "text/plain": [
       "                   mean      sd  hdi_3%  hdi_97%\n",
       "Intercept        -9.671  13.954 -35.952   16.048\n",
       "mom_hs           49.183  15.520  21.813   79.798\n",
       "mom_iq            0.949   0.151   0.665    1.227\n",
       "mom_hs:mom_iq    -0.462   0.164  -0.764   -0.154\n",
       "kid_score_sigma  18.000   0.617  16.815   19.118"
      ]
     },
     "execution_count": 10,
     "metadata": {},
     "output_type": "execute_result"
    }
   ],
   "source": [
    "model_4 = bmb.Model(\"kid_score ~ mom_hs + mom_iq + mom_hs:mom_iq\", data=kidiq)\n",
    "idata_4 = model_4.fit()\n",
    "az.summary(idata_4, kind=\"stats\")"
   ]
  },
  {
   "cell_type": "code",
   "execution_count": 11,
   "metadata": {},
   "outputs": [
    {
     "data": {
      "image/png": "[encoded data removed]",
      "text/plain": [
       "<Figure size 720x480 with 1 Axes>"
      ]
     },
     "metadata": {},
     "output_type": "display_data"
    }
   ],
   "source": [
    "stats_4 = az.summary(idata_4, kind=\"stats\")[\"mean\"]\n",
    "x = np.arange(kidiq[\"mom_iq\"].min(), kidiq[\"mom_iq\"].max())\n",
    "y_pred_mom_hs_1 = (\n",
    "    stats_4[\"Intercept\"]\n",
    "    + stats_4[\"mom_hs\"]\n",
    "    + (stats_4[\"mom_hs:mom_iq\"] + stats_4[\"mom_iq\"]) * x\n",
    ")\n",
    "y_pred_mom_hs_0 = stats_4[\"Intercept\"] + stats_4[\"mom_iq\"] * x\n",
    "\n",
    "fig, ax = plt.subplots()\n",
    "ax.scatter(\"mom_iq\", \"kid_score\", data=kidiq.query(\"mom_hs == 1\"), color=\"black\", s=10)\n",
    "ax.scatter(\"mom_iq\", \"kid_score\", data=kidiq.query(\"mom_hs == 0\"), color=\"gray\", s=10)\n",
    "ax.plot(x, y_pred_mom_hs_1, color=\"black\")\n",
    "ax.plot(x, y_pred_mom_hs_0, color=\"gray\");"
   ]
  },
  {
   "cell_type": "markdown",
   "metadata": {},
   "source": [
    "## Displaying uncertainty in the fitted regression\n",
    "### A single continuous predictor"
   ]
  },
  {
   "cell_type": "code",
   "execution_count": 13,
   "metadata": {},
   "outputs": [
    {
     "data": {
      "image/png": "[encoded data removed]",
      "text/plain": [
       "<Figure size 720x480 with 1 Axes>"
      ]
     },
     "metadata": {},
     "output_type": "display_data"
    }
   ],
   "source": [
    "index = rng.choice(len(idata_2.posterior[\"draw\"].values), 10)\n",
    "intercept_sample = idata_2.posterior[\"Intercept\"][0, index].values\n",
    "slope_sample = idata_2.posterior[\"mom_iq\"][0, index].values\n",
    "x = np.arange(kidiq[\"mom_iq\"].min(), kidiq[\"mom_iq\"].max())\n",
    "y_pred = (\n",
    "    idata_2.posterior[\"Intercept\"].values.mean()\n",
    "    + idata_2.posterior[\"mom_iq\"].values.mean() * x\n",
    ")\n",
    "\n",
    "fig, ax = plt.subplots()\n",
    "ax.scatter(\"mom_iq\", \"kid_score\", data=kidiq, color=\"black\", s=10)\n",
    "for intercept, slope in zip(intercept_sample, slope_sample):\n",
    "    ax.plot(x, intercept + slope * x, color=\"gray\", alpha=0.5)\n",
    "ax.plot(x, y_pred, color=\"black\")\n",
    "\n",
    "ax.set_xlabel(\"Mother IQ score\")\n",
    "ax.set_ylabel(\"Child test score\");"
   ]
  },
  {
   "cell_type": "markdown",
   "metadata": {},
   "source": [
    "### Two predictors"
   ]
  },
  {
   "cell_type": "code",
   "execution_count": 14,
   "metadata": {},
   "outputs": [],
   "source": [
    "# TODO: add plot code here"
   ]
  },
  {
   "cell_type": "markdown",
   "metadata": {},
   "source": [
    "### Center predictors to have zero mean"
   ]
  },
  {
   "cell_type": "code",
   "execution_count": 15,
   "metadata": {},
   "outputs": [
    {
     "name": "stderr",
     "output_type": "stream",
     "text": [
      "Auto-assigning NUTS sampler...\n",
      "Initializing NUTS using jitter+adapt_diag...\n",
      "Multiprocess sampling (4 chains in 4 jobs)\n",
      "NUTS: [kid_score_sigma, Intercept, c_mom_hs:c_mom_iq, c_mom_iq, c_mom_hs]\n"
     ]
    },
    {
     "data": {
      "text/html": [
       "\n",
       "    <div>\n",
       "        <style>\n",
       "            /* Turns off some styling */\n",
       "            progress {\n",
       "                /* gets rid of default border in Firefox and Opera. */\n",
       "                border: none;\n",
       "                /* Needs to be in here for Safari polyfill so background images work as expected. */\n",
       "                background-size: auto;\n",
       "            }\n",
       "            .progress-bar-interrupted, .progress-bar-interrupted::-webkit-progress-bar {\n",
       "                background: #F44336;\n",
       "            }\n",
       "        </style>\n",
       "      <progress value='8000' class='' max='8000' style='width:300px; height:20px; vertical-align: middle;'></progress>\n",
       "      100.00% [8000/8000 00:07<00:00 Sampling 4 chains, 0 divergences]\n",
       "    </div>\n",
       "    "
      ],
      "text/plain": [
       "<IPython.core.display.HTML object>"
      ]
     },
     "metadata": {},
     "output_type": "display_data"
    },
    {
     "name": "stderr",
     "output_type": "stream",
     "text": [
      "Sampling 4 chains for 1_000 tune and 1_000 draw iterations (4_000 + 4_000 draws total) took 19 seconds.\n"
     ]
    },
    {
     "data": {
      "text/html": [
       "<div>\n",
       "<style scoped>\n",
       "    .dataframe tbody tr th:only-of-type {\n",
       "        vertical-align: middle;\n",
       "    }\n",
       "\n",
       "    .dataframe tbody tr th {\n",
       "        vertical-align: top;\n",
       "    }\n",
       "\n",
       "    .dataframe thead th {\n",
       "        text-align: right;\n",
       "    }\n",
       "</style>\n",
       "<table border=\"1\" class=\"dataframe\">\n",
       "  <thead>\n",
       "    <tr style=\"text-align: right;\">\n",
       "      <th></th>\n",
       "      <th>mean</th>\n",
       "      <th>sd</th>\n",
       "      <th>hdi_3%</th>\n",
       "      <th>hdi_97%</th>\n",
       "      <th>mcse_mean</th>\n",
       "      <th>mcse_sd</th>\n",
       "      <th>ess_bulk</th>\n",
       "      <th>ess_tail</th>\n",
       "      <th>r_hat</th>\n",
       "    </tr>\n",
       "  </thead>\n",
       "  <tbody>\n",
       "    <tr>\n",
       "      <th>Intercept</th>\n",
       "      <td>87.640</td>\n",
       "      <td>0.912</td>\n",
       "      <td>85.894</td>\n",
       "      <td>89.346</td>\n",
       "      <td>0.014</td>\n",
       "      <td>0.010</td>\n",
       "      <td>4003.0</td>\n",
       "      <td>3038.0</td>\n",
       "      <td>1.0</td>\n",
       "    </tr>\n",
       "    <tr>\n",
       "      <th>c_mom_hs</th>\n",
       "      <td>2.755</td>\n",
       "      <td>2.368</td>\n",
       "      <td>-1.498</td>\n",
       "      <td>7.267</td>\n",
       "      <td>0.040</td>\n",
       "      <td>0.029</td>\n",
       "      <td>3415.0</td>\n",
       "      <td>2573.0</td>\n",
       "      <td>1.0</td>\n",
       "    </tr>\n",
       "    <tr>\n",
       "      <th>c_mom_iq</th>\n",
       "      <td>0.590</td>\n",
       "      <td>0.061</td>\n",
       "      <td>0.479</td>\n",
       "      <td>0.705</td>\n",
       "      <td>0.001</td>\n",
       "      <td>0.001</td>\n",
       "      <td>4810.0</td>\n",
       "      <td>3095.0</td>\n",
       "      <td>1.0</td>\n",
       "    </tr>\n",
       "    <tr>\n",
       "      <th>c_mom_hs:c_mom_iq</th>\n",
       "      <td>-0.485</td>\n",
       "      <td>0.159</td>\n",
       "      <td>-0.772</td>\n",
       "      <td>-0.175</td>\n",
       "      <td>0.002</td>\n",
       "      <td>0.002</td>\n",
       "      <td>4816.0</td>\n",
       "      <td>3545.0</td>\n",
       "      <td>1.0</td>\n",
       "    </tr>\n",
       "    <tr>\n",
       "      <th>kid_score_sigma</th>\n",
       "      <td>18.002</td>\n",
       "      <td>0.605</td>\n",
       "      <td>16.930</td>\n",
       "      <td>19.136</td>\n",
       "      <td>0.008</td>\n",
       "      <td>0.006</td>\n",
       "      <td>5254.0</td>\n",
       "      <td>3572.0</td>\n",
       "      <td>1.0</td>\n",
       "    </tr>\n",
       "  </tbody>\n",
       "</table>\n",
       "</div>"
      ],
      "text/plain": [
       "                     mean     sd  hdi_3%  hdi_97%  mcse_mean  mcse_sd  \\\n",
       "Intercept          87.640  0.912  85.894   89.346      0.014    0.010   \n",
       "c_mom_hs            2.755  2.368  -1.498    7.267      0.040    0.029   \n",
       "c_mom_iq            0.590  0.061   0.479    0.705      0.001    0.001   \n",
       "c_mom_hs:c_mom_iq  -0.485  0.159  -0.772   -0.175      0.002    0.002   \n",
       "kid_score_sigma    18.002  0.605  16.930   19.136      0.008    0.006   \n",
       "\n",
       "                   ess_bulk  ess_tail  r_hat  \n",
       "Intercept            4003.0    3038.0    1.0  \n",
       "c_mom_hs             3415.0    2573.0    1.0  \n",
       "c_mom_iq             4810.0    3095.0    1.0  \n",
       "c_mom_hs:c_mom_iq    4816.0    3545.0    1.0  \n",
       "kid_score_sigma      5254.0    3572.0    1.0  "
      ]
     },
     "execution_count": 15,
     "metadata": {},
     "output_type": "execute_result"
    }
   ],
   "source": [
    "kidiq[\"c_mom_hs\"] = kidiq[\"mom_hs\"] - kidiq[\"mom_hs\"].mean()\n",
    "kidiq[\"c_mom_iq\"] = kidiq[\"mom_iq\"] - kidiq[\"mom_iq\"].mean()\n",
    "model_4c = bmb.Model(\n",
    "    \"kid_score ~ c_mom_hs + c_mom_iq + c_mom_hs:c_mom_iq\",\n",
    "    data=kidiq,\n",
    ")\n",
    "idata_4c = model_4c.fit()\n",
    "az.summary(idata_4c)"
   ]
  },
  {
   "cell_type": "markdown",
   "metadata": {},
   "source": [
    "### Center predictors based on a reference point"
   ]
  },
  {
   "cell_type": "code",
   "execution_count": 16,
   "metadata": {},
   "outputs": [
    {
     "name": "stderr",
     "output_type": "stream",
     "text": [
      "Auto-assigning NUTS sampler...\n",
      "Initializing NUTS using jitter+adapt_diag...\n",
      "Multiprocess sampling (4 chains in 4 jobs)\n",
      "NUTS: [kid_score_sigma, Intercept, c2_mom_hs:c2_mom_iq, c2_mom_iq, c2_mom_hs]\n"
     ]
    },
    {
     "data": {
      "text/html": [
       "\n",
       "    <div>\n",
       "        <style>\n",
       "            /* Turns off some styling */\n",
       "            progress {\n",
       "                /* gets rid of default border in Firefox and Opera. */\n",
       "                border: none;\n",
       "                /* Needs to be in here for Safari polyfill so background images work as expected. */\n",
       "                background-size: auto;\n",
       "            }\n",
       "            .progress-bar-interrupted, .progress-bar-interrupted::-webkit-progress-bar {\n",
       "                background: #F44336;\n",
       "            }\n",
       "        </style>\n",
       "      <progress value='8000' class='' max='8000' style='width:300px; height:20px; vertical-align: middle;'></progress>\n",
       "      100.00% [8000/8000 00:07<00:00 Sampling 4 chains, 0 divergences]\n",
       "    </div>\n",
       "    "
      ],
      "text/plain": [
       "<IPython.core.display.HTML object>"
      ]
     },
     "metadata": {},
     "output_type": "display_data"
    },
    {
     "name": "stderr",
     "output_type": "stream",
     "text": [
      "Sampling 4 chains for 1_000 tune and 1_000 draw iterations (4_000 + 4_000 draws total) took 16 seconds.\n"
     ]
    },
    {
     "data": {
      "text/html": [
       "<div>\n",
       "<style scoped>\n",
       "    .dataframe tbody tr th:only-of-type {\n",
       "        vertical-align: middle;\n",
       "    }\n",
       "\n",
       "    .dataframe tbody tr th {\n",
       "        vertical-align: top;\n",
       "    }\n",
       "\n",
       "    .dataframe thead th {\n",
       "        text-align: right;\n",
       "    }\n",
       "</style>\n",
       "<table border=\"1\" class=\"dataframe\">\n",
       "  <thead>\n",
       "    <tr style=\"text-align: right;\">\n",
       "      <th></th>\n",
       "      <th>mean</th>\n",
       "      <th>sd</th>\n",
       "      <th>hdi_3%</th>\n",
       "      <th>hdi_97%</th>\n",
       "      <th>mcse_mean</th>\n",
       "      <th>mcse_sd</th>\n",
       "      <th>ess_bulk</th>\n",
       "      <th>ess_tail</th>\n",
       "      <th>r_hat</th>\n",
       "    </tr>\n",
       "  </thead>\n",
       "  <tbody>\n",
       "    <tr>\n",
       "      <th>Intercept</th>\n",
       "      <td>86.818</td>\n",
       "      <td>1.210</td>\n",
       "      <td>84.457</td>\n",
       "      <td>88.981</td>\n",
       "      <td>0.025</td>\n",
       "      <td>0.017</td>\n",
       "      <td>2387.0</td>\n",
       "      <td>2341.0</td>\n",
       "      <td>1.0</td>\n",
       "    </tr>\n",
       "    <tr>\n",
       "      <th>c2_mom_hs</th>\n",
       "      <td>2.883</td>\n",
       "      <td>2.386</td>\n",
       "      <td>-1.652</td>\n",
       "      <td>7.248</td>\n",
       "      <td>0.049</td>\n",
       "      <td>0.035</td>\n",
       "      <td>2381.0</td>\n",
       "      <td>2572.0</td>\n",
       "      <td>1.0</td>\n",
       "    </tr>\n",
       "    <tr>\n",
       "      <th>c2_mom_iq</th>\n",
       "      <td>0.726</td>\n",
       "      <td>0.082</td>\n",
       "      <td>0.582</td>\n",
       "      <td>0.888</td>\n",
       "      <td>0.002</td>\n",
       "      <td>0.001</td>\n",
       "      <td>2074.0</td>\n",
       "      <td>2479.0</td>\n",
       "      <td>1.0</td>\n",
       "    </tr>\n",
       "    <tr>\n",
       "      <th>c2_mom_hs:c2_mom_iq</th>\n",
       "      <td>-0.482</td>\n",
       "      <td>0.163</td>\n",
       "      <td>-0.799</td>\n",
       "      <td>-0.188</td>\n",
       "      <td>0.003</td>\n",
       "      <td>0.002</td>\n",
       "      <td>2172.0</td>\n",
       "      <td>2444.0</td>\n",
       "      <td>1.0</td>\n",
       "    </tr>\n",
       "    <tr>\n",
       "      <th>kid_score_sigma</th>\n",
       "      <td>18.000</td>\n",
       "      <td>0.619</td>\n",
       "      <td>16.896</td>\n",
       "      <td>19.269</td>\n",
       "      <td>0.010</td>\n",
       "      <td>0.007</td>\n",
       "      <td>3772.0</td>\n",
       "      <td>3164.0</td>\n",
       "      <td>1.0</td>\n",
       "    </tr>\n",
       "  </tbody>\n",
       "</table>\n",
       "</div>"
      ],
      "text/plain": [
       "                       mean     sd  hdi_3%  hdi_97%  mcse_mean  mcse_sd  \\\n",
       "Intercept            86.818  1.210  84.457   88.981      0.025    0.017   \n",
       "c2_mom_hs             2.883  2.386  -1.652    7.248      0.049    0.035   \n",
       "c2_mom_iq             0.726  0.082   0.582    0.888      0.002    0.001   \n",
       "c2_mom_hs:c2_mom_iq  -0.482  0.163  -0.799   -0.188      0.003    0.002   \n",
       "kid_score_sigma      18.000  0.619  16.896   19.269      0.010    0.007   \n",
       "\n",
       "                     ess_bulk  ess_tail  r_hat  \n",
       "Intercept              2387.0    2341.0    1.0  \n",
       "c2_mom_hs              2381.0    2572.0    1.0  \n",
       "c2_mom_iq              2074.0    2479.0    1.0  \n",
       "c2_mom_hs:c2_mom_iq    2172.0    2444.0    1.0  \n",
       "kid_score_sigma        3772.0    3164.0    1.0  "
      ]
     },
     "execution_count": 16,
     "metadata": {},
     "output_type": "execute_result"
    }
   ],
   "source": [
    "kidiq[\"c2_mom_hs\"] = kidiq[\"mom_hs\"] - 0.5\n",
    "kidiq[\"c2_mom_iq\"] = kidiq[\"mom_iq\"] - 100\n",
    "model_4c2 = bmb.Model(\n",
    "    \"kid_score ~ c2_mom_hs + c2_mom_iq + c2_mom_hs:c2_mom_iq\",\n",
    "    data=kidiq,\n",
    ")\n",
    "idata_4c2 = model_4c2.fit()\n",
    "az.summary(idata_4c2)"
   ]
  },
  {
   "cell_type": "markdown",
   "metadata": {},
   "source": [
    "### Center and scale predictors to have zero mean and sd=1/2"
   ]
  },
  {
   "cell_type": "code",
   "execution_count": 17,
   "metadata": {},
   "outputs": [
    {
     "name": "stderr",
     "output_type": "stream",
     "text": [
      "Auto-assigning NUTS sampler...\n",
      "Initializing NUTS using jitter+adapt_diag...\n",
      "Multiprocess sampling (4 chains in 4 jobs)\n",
      "NUTS: [kid_score_sigma, Intercept, z_mom_hs:z_mom_iq, z_mom_iq, z_mom_hs]\n"
     ]
    },
    {
     "data": {
      "text/html": [
       "\n",
       "    <div>\n",
       "        <style>\n",
       "            /* Turns off some styling */\n",
       "            progress {\n",
       "                /* gets rid of default border in Firefox and Opera. */\n",
       "                border: none;\n",
       "                /* Needs to be in here for Safari polyfill so background images work as expected. */\n",
       "                background-size: auto;\n",
       "            }\n",
       "            .progress-bar-interrupted, .progress-bar-interrupted::-webkit-progress-bar {\n",
       "                background: #F44336;\n",
       "            }\n",
       "        </style>\n",
       "      <progress value='8000' class='' max='8000' style='width:300px; height:20px; vertical-align: middle;'></progress>\n",
       "      100.00% [8000/8000 00:07<00:00 Sampling 4 chains, 0 divergences]\n",
       "    </div>\n",
       "    "
      ],
      "text/plain": [
       "<IPython.core.display.HTML object>"
      ]
     },
     "metadata": {},
     "output_type": "display_data"
    },
    {
     "name": "stderr",
     "output_type": "stream",
     "text": [
      "Sampling 4 chains for 1_000 tune and 1_000 draw iterations (4_000 + 4_000 draws total) took 16 seconds.\n"
     ]
    },
    {
     "data": {
      "text/html": [
       "<div>\n",
       "<style scoped>\n",
       "    .dataframe tbody tr th:only-of-type {\n",
       "        vertical-align: middle;\n",
       "    }\n",
       "\n",
       "    .dataframe tbody tr th {\n",
       "        vertical-align: top;\n",
       "    }\n",
       "\n",
       "    .dataframe thead th {\n",
       "        text-align: right;\n",
       "    }\n",
       "</style>\n",
       "<table border=\"1\" class=\"dataframe\">\n",
       "  <thead>\n",
       "    <tr style=\"text-align: right;\">\n",
       "      <th></th>\n",
       "      <th>mean</th>\n",
       "      <th>sd</th>\n",
       "      <th>hdi_3%</th>\n",
       "      <th>hdi_97%</th>\n",
       "      <th>mcse_mean</th>\n",
       "      <th>mcse_sd</th>\n",
       "      <th>ess_bulk</th>\n",
       "      <th>ess_tail</th>\n",
       "      <th>r_hat</th>\n",
       "    </tr>\n",
       "  </thead>\n",
       "  <tbody>\n",
       "    <tr>\n",
       "      <th>Intercept</th>\n",
       "      <td>87.648</td>\n",
       "      <td>0.937</td>\n",
       "      <td>85.868</td>\n",
       "      <td>89.388</td>\n",
       "      <td>0.012</td>\n",
       "      <td>0.009</td>\n",
       "      <td>6013.0</td>\n",
       "      <td>3314.0</td>\n",
       "      <td>1.0</td>\n",
       "    </tr>\n",
       "    <tr>\n",
       "      <th>z_mom_hs</th>\n",
       "      <td>2.299</td>\n",
       "      <td>2.018</td>\n",
       "      <td>-1.590</td>\n",
       "      <td>6.002</td>\n",
       "      <td>0.034</td>\n",
       "      <td>0.025</td>\n",
       "      <td>3598.0</td>\n",
       "      <td>3456.0</td>\n",
       "      <td>1.0</td>\n",
       "    </tr>\n",
       "    <tr>\n",
       "      <th>z_mom_iq</th>\n",
       "      <td>17.676</td>\n",
       "      <td>1.846</td>\n",
       "      <td>14.433</td>\n",
       "      <td>21.301</td>\n",
       "      <td>0.027</td>\n",
       "      <td>0.019</td>\n",
       "      <td>4519.0</td>\n",
       "      <td>3154.0</td>\n",
       "      <td>1.0</td>\n",
       "    </tr>\n",
       "    <tr>\n",
       "      <th>z_mom_hs:z_mom_iq</th>\n",
       "      <td>-12.069</td>\n",
       "      <td>3.996</td>\n",
       "      <td>-19.596</td>\n",
       "      <td>-4.583</td>\n",
       "      <td>0.064</td>\n",
       "      <td>0.047</td>\n",
       "      <td>3939.0</td>\n",
       "      <td>3062.0</td>\n",
       "      <td>1.0</td>\n",
       "    </tr>\n",
       "    <tr>\n",
       "      <th>kid_score_sigma</th>\n",
       "      <td>18.002</td>\n",
       "      <td>0.616</td>\n",
       "      <td>16.880</td>\n",
       "      <td>19.145</td>\n",
       "      <td>0.009</td>\n",
       "      <td>0.006</td>\n",
       "      <td>5097.0</td>\n",
       "      <td>3149.0</td>\n",
       "      <td>1.0</td>\n",
       "    </tr>\n",
       "  </tbody>\n",
       "</table>\n",
       "</div>"
      ],
      "text/plain": [
       "                     mean     sd  hdi_3%  hdi_97%  mcse_mean  mcse_sd  \\\n",
       "Intercept          87.648  0.937  85.868   89.388      0.012    0.009   \n",
       "z_mom_hs            2.299  2.018  -1.590    6.002      0.034    0.025   \n",
       "z_mom_iq           17.676  1.846  14.433   21.301      0.027    0.019   \n",
       "z_mom_hs:z_mom_iq -12.069  3.996 -19.596   -4.583      0.064    0.047   \n",
       "kid_score_sigma    18.002  0.616  16.880   19.145      0.009    0.006   \n",
       "\n",
       "                   ess_bulk  ess_tail  r_hat  \n",
       "Intercept            6013.0    3314.0    1.0  \n",
       "z_mom_hs             3598.0    3456.0    1.0  \n",
       "z_mom_iq             4519.0    3154.0    1.0  \n",
       "z_mom_hs:z_mom_iq    3939.0    3062.0    1.0  \n",
       "kid_score_sigma      5097.0    3149.0    1.0  "
      ]
     },
     "execution_count": 17,
     "metadata": {},
     "output_type": "execute_result"
    }
   ],
   "source": [
    "kidiq[\"z_mom_hs\"] = (kidiq[\"mom_hs\"] - kidiq[\"mom_hs\"].mean()) / (\n",
    "    2 * kidiq[\"mom_hs\"].std()\n",
    ")\n",
    "kidiq[\"z_mom_iq\"] = (kidiq[\"mom_iq\"] - kidiq[\"mom_iq\"].mean()) / (\n",
    "    2 * kidiq[\"mom_iq\"].std()\n",
    ")\n",
    "model_4c = bmb.Model(\n",
    "    \"kid_score ~ z_mom_hs + z_mom_iq + z_mom_hs:z_mom_iq\",\n",
    "    data=kidiq,\n",
    ")\n",
    "idata_4c = model_4c.fit()\n",
    "az.summary(idata_4c)"
   ]
  },
  {
   "cell_type": "markdown",
   "metadata": {},
   "source": [
    "### Predict using working status of mother"
   ]
  },
  {
   "cell_type": "code",
   "execution_count": 18,
   "metadata": {},
   "outputs": [
    {
     "name": "stderr",
     "output_type": "stream",
     "text": [
      "Auto-assigning NUTS sampler...\n",
      "Initializing NUTS using jitter+adapt_diag...\n",
      "Multiprocess sampling (4 chains in 4 jobs)\n",
      "NUTS: [kid_score_sigma, Intercept, C(mom_work)]\n"
     ]
    },
    {
     "data": {
      "text/html": [
       "\n",
       "    <div>\n",
       "        <style>\n",
       "            /* Turns off some styling */\n",
       "            progress {\n",
       "                /* gets rid of default border in Firefox and Opera. */\n",
       "                border: none;\n",
       "                /* Needs to be in here for Safari polyfill so background images work as expected. */\n",
       "                background-size: auto;\n",
       "            }\n",
       "            .progress-bar-interrupted, .progress-bar-interrupted::-webkit-progress-bar {\n",
       "                background: #F44336;\n",
       "            }\n",
       "        </style>\n",
       "      <progress value='8000' class='' max='8000' style='width:300px; height:20px; vertical-align: middle;'></progress>\n",
       "      100.00% [8000/8000 00:04<00:00 Sampling 4 chains, 0 divergences]\n",
       "    </div>\n",
       "    "
      ],
      "text/plain": [
       "<IPython.core.display.HTML object>"
      ]
     },
     "metadata": {},
     "output_type": "display_data"
    },
    {
     "name": "stderr",
     "output_type": "stream",
     "text": [
      "Sampling 4 chains for 1_000 tune and 1_000 draw iterations (4_000 + 4_000 draws total) took 14 seconds.\n"
     ]
    },
    {
     "data": {
      "text/html": [
       "<div>\n",
       "<style scoped>\n",
       "    .dataframe tbody tr th:only-of-type {\n",
       "        vertical-align: middle;\n",
       "    }\n",
       "\n",
       "    .dataframe tbody tr th {\n",
       "        vertical-align: top;\n",
       "    }\n",
       "\n",
       "    .dataframe thead th {\n",
       "        text-align: right;\n",
       "    }\n",
       "</style>\n",
       "<table border=\"1\" class=\"dataframe\">\n",
       "  <thead>\n",
       "    <tr style=\"text-align: right;\">\n",
       "      <th></th>\n",
       "      <th>mean</th>\n",
       "      <th>sd</th>\n",
       "      <th>hdi_3%</th>\n",
       "      <th>hdi_97%</th>\n",
       "    </tr>\n",
       "  </thead>\n",
       "  <tbody>\n",
       "    <tr>\n",
       "      <th>Intercept</th>\n",
       "      <td>81.994</td>\n",
       "      <td>2.292</td>\n",
       "      <td>77.896</td>\n",
       "      <td>86.441</td>\n",
       "    </tr>\n",
       "    <tr>\n",
       "      <th>C(mom_work)[2]</th>\n",
       "      <td>3.866</td>\n",
       "      <td>3.090</td>\n",
       "      <td>-1.804</td>\n",
       "      <td>9.844</td>\n",
       "    </tr>\n",
       "    <tr>\n",
       "      <th>C(mom_work)[3]</th>\n",
       "      <td>11.504</td>\n",
       "      <td>3.561</td>\n",
       "      <td>4.844</td>\n",
       "      <td>18.084</td>\n",
       "    </tr>\n",
       "    <tr>\n",
       "      <th>C(mom_work)[4]</th>\n",
       "      <td>5.213</td>\n",
       "      <td>2.672</td>\n",
       "      <td>-0.025</td>\n",
       "      <td>9.851</td>\n",
       "    </tr>\n",
       "    <tr>\n",
       "      <th>kid_score_sigma</th>\n",
       "      <td>20.289</td>\n",
       "      <td>0.696</td>\n",
       "      <td>19.009</td>\n",
       "      <td>21.646</td>\n",
       "    </tr>\n",
       "  </tbody>\n",
       "</table>\n",
       "</div>"
      ],
      "text/plain": [
       "                   mean     sd  hdi_3%  hdi_97%\n",
       "Intercept        81.994  2.292  77.896   86.441\n",
       "C(mom_work)[2]    3.866  3.090  -1.804    9.844\n",
       "C(mom_work)[3]   11.504  3.561   4.844   18.084\n",
       "C(mom_work)[4]    5.213  2.672  -0.025    9.851\n",
       "kid_score_sigma  20.289  0.696  19.009   21.646"
      ]
     },
     "execution_count": 18,
     "metadata": {},
     "output_type": "execute_result"
    }
   ],
   "source": [
    "model_5 = bmb.Model(\"kid_score ~ C(mom_work)\", data=kidiq)\n",
    "idata_5 = model_5.fit()\n",
    "az.summary(idata_5, kind=\"stats\")"
   ]
  },
  {
   "cell_type": "code",
   "execution_count": null,
   "metadata": {},
   "outputs": [],
   "source": []
  }
 ],
 "metadata": {
  "interpreter": {
   "hash": "f14ccd4238e55f19436cb993dc564e67ace5c010d2553c49de06d281bd921edd"
  },
  "kernelspec": {
   "display_name": "Python 3.9.7 64-bit ('ros-python': conda)",
   "language": "python",
   "name": "python3"
  },
  "language_info": {
   "codemirror_mode": {
    "name": "ipython",
    "version": 3
   },
   "file_extension": ".py",
   "mimetype": "text/x-python",
   "name": "python",
   "nbconvert_exporter": "python",
   "pygments_lexer": "ipython3",
   "version": "3.9.7"
  },
  "orig_nbformat": 4
 },
 "nbformat": 4,
 "nbformat_minor": 2
}
